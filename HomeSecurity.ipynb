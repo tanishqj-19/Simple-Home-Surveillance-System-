{
 "cells": [
  {
   "cell_type": "code",
   "execution_count": 1,
   "id": "a4529347",
   "metadata": {},
   "outputs": [],
   "source": [
    "import cv2\n",
    "import winsound\n",
    "cam = cv2.VideoCapture(0)\n",
    "\n",
    "\n",
    "while cam.isOpened():\n",
    "    ret, frame1 = cam.read() # Creating Frame 1 \n",
    "    # Creating a second frame so that we can idenfity the motion\n",
    "    ret, frame2 = cam.read() \n",
    "    # Taking the abs difference between the frames so that we can capture the motion\n",
    "    diff = cv2.absdiff(frame1, frame2)\n",
    "    \n",
    "    # Converting the frame to Gray \n",
    "    gray = cv2.cvtColor(diff, cv2.COLOR_RGB2GRAY)\n",
    "    \n",
    "    # Since we are using a  Gaussian Blur we cvted our image to gray color\n",
    "    blur = cv2.GaussianBlur(gray, (5, 5), 0)\n",
    "    \n",
    "    # We are then applying a threshold to get rid of the noise \n",
    "    _, thresh = cv2.threshold(blur, 20, 255, cv2.THRESH_BINARY)\n",
    "    \n",
    "    # We are using dilate here to increase the object area\n",
    "    dilated = cv2.dilate(thresh, None, iterations=3)\n",
    "    \n",
    "    # To draw a Boundary near the dilated part we are using contours\n",
    "    contours, _ = cv2.findContours(dilated, cv2.RETR_TREE, cv2.CHAIN_APPROX_SIMPLE)\n",
    "    \n",
    "    # Drawing the Contours to our Frame\n",
    "    # cv2.drawContours(frame1, contours, -1, (0, 255, 0), 2)\n",
    "    \n",
    "    # Getting the Motion Only for a bigger object\n",
    "    for c in contours:\n",
    "        # It will skip the motion < 5000 area\n",
    "        if cv2.contourArea(c) < 5000:\n",
    "            continue\n",
    "        # Getting the x-cor, y-cor, width & height for each contours\n",
    "        x, y, w, h = cv2.boundingRect(c)\n",
    "        # Drawing the rectange for the above contours C\n",
    "        cv2.rectangle(frame1, (x, y), (x + w, y + h), (0, 255, 0), 2)\n",
    "        \n",
    "        # Adding our Alert Sound\n",
    "        # Sync the sound asynchronously \n",
    "        winsound.PlaySound('alert.wav', winsound.SND_ASYNC)\n",
    "    \n",
    "    \n",
    "    \n",
    "    \n",
    "    cv2.imshow('Security Cam', frame1)\n",
    "    \n",
    "    if cv2.waitKey(10) & 0xFF == ord('q'):\n",
    "        cv2.destroyWindow('Security Cam')\n",
    "        cam.release()\n",
    "        break\n",
    "    "
   ]
  },
  {
   "cell_type": "code",
   "execution_count": null,
   "id": "ab0c2670",
   "metadata": {},
   "outputs": [],
   "source": []
  }
 ],
 "metadata": {
  "kernelspec": {
   "display_name": "Python 3 (ipykernel)",
   "language": "python",
   "name": "python3"
  },
  "language_info": {
   "codemirror_mode": {
    "name": "ipython",
    "version": 3
   },
   "file_extension": ".py",
   "mimetype": "text/x-python",
   "name": "python",
   "nbconvert_exporter": "python",
   "pygments_lexer": "ipython3",
   "version": "3.9.12"
  }
 },
 "nbformat": 4,
 "nbformat_minor": 5
}
